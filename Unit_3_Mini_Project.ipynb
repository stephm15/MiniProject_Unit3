{
  "nbformat": 4,
  "nbformat_minor": 0,
  "metadata": {
    "colab": {
      "name": "Unit 3 Mini Project",
      "provenance": [],
      "collapsed_sections": [],
      "authorship_tag": "ABX9TyN6hANlzf5MUeV4dGFgyeFo",
      "include_colab_link": true
    },
    "kernelspec": {
      "name": "python3",
      "display_name": "Python 3"
    }
  },
  "cells": [
    {
      "cell_type": "markdown",
      "metadata": {
        "id": "view-in-github",
        "colab_type": "text"
      },
      "source": [
        "<a href=\"https://colab.research.google.com/github/stephm15/MiniProject_Unit3/blob/main/Unit_3_Mini_Project.ipynb\" target=\"_parent\"><img src=\"https://colab.research.google.com/assets/colab-badge.svg\" alt=\"Open In Colab\"/></a>"
      ]
    },
    {
      "cell_type": "markdown",
      "metadata": {
        "id": "LHEQCbrtxJ4X"
      },
      "source": [
        "**Environment Setup**"
      ]
    },
    {
      "cell_type": "code",
      "metadata": {
        "id": "CTFrW3QJ0x-0"
      },
      "source": [
        "import numpy as np\r\n",
        "import pandas as pd\r\n"
      ],
      "execution_count": 3,
      "outputs": []
    },
    {
      "cell_type": "markdown",
      "metadata": {
        "id": "Pw8cNZeQxkF3"
      },
      "source": [
        "**Data Collection**"
      ]
    },
    {
      "cell_type": "code",
      "metadata": {
        "colab": {
          "base_uri": "https://localhost:8080/",
          "height": 415
        },
        "id": "MxOU8qV5wJ3z",
        "outputId": "3b19cd77-9f79-42da-a99e-c553aa54c9b0"
      },
      "source": [
        "df = pd.read_csv(\"https://raw.githubusercontent.com/nytimes/covid-19-data/master/us-counties.csv\")\r\n",
        "df"
      ],
      "execution_count": 92,
      "outputs": [
        {
          "output_type": "execute_result",
          "data": {
            "text/html": [
              "<div>\n",
              "<style scoped>\n",
              "    .dataframe tbody tr th:only-of-type {\n",
              "        vertical-align: middle;\n",
              "    }\n",
              "\n",
              "    .dataframe tbody tr th {\n",
              "        vertical-align: top;\n",
              "    }\n",
              "\n",
              "    .dataframe thead th {\n",
              "        text-align: right;\n",
              "    }\n",
              "</style>\n",
              "<table border=\"1\" class=\"dataframe\">\n",
              "  <thead>\n",
              "    <tr style=\"text-align: right;\">\n",
              "      <th></th>\n",
              "      <th>date</th>\n",
              "      <th>county</th>\n",
              "      <th>state</th>\n",
              "      <th>fips</th>\n",
              "      <th>cases</th>\n",
              "      <th>deaths</th>\n",
              "    </tr>\n",
              "  </thead>\n",
              "  <tbody>\n",
              "    <tr>\n",
              "      <th>0</th>\n",
              "      <td>2020-01-21</td>\n",
              "      <td>Snohomish</td>\n",
              "      <td>Washington</td>\n",
              "      <td>53061.0</td>\n",
              "      <td>1</td>\n",
              "      <td>0.0</td>\n",
              "    </tr>\n",
              "    <tr>\n",
              "      <th>1</th>\n",
              "      <td>2020-01-22</td>\n",
              "      <td>Snohomish</td>\n",
              "      <td>Washington</td>\n",
              "      <td>53061.0</td>\n",
              "      <td>1</td>\n",
              "      <td>0.0</td>\n",
              "    </tr>\n",
              "    <tr>\n",
              "      <th>2</th>\n",
              "      <td>2020-01-23</td>\n",
              "      <td>Snohomish</td>\n",
              "      <td>Washington</td>\n",
              "      <td>53061.0</td>\n",
              "      <td>1</td>\n",
              "      <td>0.0</td>\n",
              "    </tr>\n",
              "    <tr>\n",
              "      <th>3</th>\n",
              "      <td>2020-01-24</td>\n",
              "      <td>Cook</td>\n",
              "      <td>Illinois</td>\n",
              "      <td>17031.0</td>\n",
              "      <td>1</td>\n",
              "      <td>0.0</td>\n",
              "    </tr>\n",
              "    <tr>\n",
              "      <th>4</th>\n",
              "      <td>2020-01-24</td>\n",
              "      <td>Snohomish</td>\n",
              "      <td>Washington</td>\n",
              "      <td>53061.0</td>\n",
              "      <td>1</td>\n",
              "      <td>0.0</td>\n",
              "    </tr>\n",
              "    <tr>\n",
              "      <th>...</th>\n",
              "      <td>...</td>\n",
              "      <td>...</td>\n",
              "      <td>...</td>\n",
              "      <td>...</td>\n",
              "      <td>...</td>\n",
              "      <td>...</td>\n",
              "    </tr>\n",
              "    <tr>\n",
              "      <th>943228</th>\n",
              "      <td>2021-01-18</td>\n",
              "      <td>Sweetwater</td>\n",
              "      <td>Wyoming</td>\n",
              "      <td>56037.0</td>\n",
              "      <td>3312</td>\n",
              "      <td>26.0</td>\n",
              "    </tr>\n",
              "    <tr>\n",
              "      <th>943229</th>\n",
              "      <td>2021-01-18</td>\n",
              "      <td>Teton</td>\n",
              "      <td>Wyoming</td>\n",
              "      <td>56039.0</td>\n",
              "      <td>2753</td>\n",
              "      <td>4.0</td>\n",
              "    </tr>\n",
              "    <tr>\n",
              "      <th>943230</th>\n",
              "      <td>2021-01-18</td>\n",
              "      <td>Uinta</td>\n",
              "      <td>Wyoming</td>\n",
              "      <td>56041.0</td>\n",
              "      <td>1833</td>\n",
              "      <td>9.0</td>\n",
              "    </tr>\n",
              "    <tr>\n",
              "      <th>943231</th>\n",
              "      <td>2021-01-18</td>\n",
              "      <td>Washakie</td>\n",
              "      <td>Wyoming</td>\n",
              "      <td>56043.0</td>\n",
              "      <td>843</td>\n",
              "      <td>23.0</td>\n",
              "    </tr>\n",
              "    <tr>\n",
              "      <th>943232</th>\n",
              "      <td>2021-01-18</td>\n",
              "      <td>Weston</td>\n",
              "      <td>Wyoming</td>\n",
              "      <td>56045.0</td>\n",
              "      <td>602</td>\n",
              "      <td>4.0</td>\n",
              "    </tr>\n",
              "  </tbody>\n",
              "</table>\n",
              "<p>943233 rows × 6 columns</p>\n",
              "</div>"
            ],
            "text/plain": [
              "              date      county       state     fips  cases  deaths\n",
              "0       2020-01-21   Snohomish  Washington  53061.0      1     0.0\n",
              "1       2020-01-22   Snohomish  Washington  53061.0      1     0.0\n",
              "2       2020-01-23   Snohomish  Washington  53061.0      1     0.0\n",
              "3       2020-01-24        Cook    Illinois  17031.0      1     0.0\n",
              "4       2020-01-24   Snohomish  Washington  53061.0      1     0.0\n",
              "...            ...         ...         ...      ...    ...     ...\n",
              "943228  2021-01-18  Sweetwater     Wyoming  56037.0   3312    26.0\n",
              "943229  2021-01-18       Teton     Wyoming  56039.0   2753     4.0\n",
              "943230  2021-01-18       Uinta     Wyoming  56041.0   1833     9.0\n",
              "943231  2021-01-18    Washakie     Wyoming  56043.0    843    23.0\n",
              "943232  2021-01-18      Weston     Wyoming  56045.0    602     4.0\n",
              "\n",
              "[943233 rows x 6 columns]"
            ]
          },
          "metadata": {
            "tags": []
          },
          "execution_count": 92
        }
      ]
    },
    {
      "cell_type": "markdown",
      "metadata": {
        "id": "YEr5NrK009H3"
      },
      "source": [
        "**Data Wrangling**"
      ]
    },
    {
      "cell_type": "code",
      "metadata": {
        "id": "oFjvp5DS7Nrv",
        "colab": {
          "base_uri": "https://localhost:8080/",
          "height": 294
        },
        "outputId": "6e6dc50d-abec-4523-c300-a8f6d85fd447"
      },
      "source": [
        "#Renaming the columns\r\n",
        "df = pd.read_csv(\"https://raw.githubusercontent.com/nytimes/covid-19-data/master/us-counties.csv\", index_col=0)\r\n",
        "df.rename(columns={'date': 'Date', 'county': 'US County', 'state': 'US State', 'cases':'Number of Cases', 'deaths': 'Number of Deaths'}, inplace=True)\r\n",
        "df\r\n",
        "\r\n",
        "#deleting column\r\n",
        "del df['fips']\r\n",
        "df\r\n",
        "\r\n",
        "#Filtering by state counts & number of cases\r\n",
        "state_df = df.groupby('US State')['Number of Cases'].count().sort_values(ascending=True)\r\n",
        "state_df\r\n",
        "\r\n",
        "#Max Number of Cases\r\n",
        "state_df.max()\r\n",
        "#Min Number of Cases\r\n",
        "state_df.min()\r\n",
        "#Average Number of Cases\r\n",
        "state_df.mean()\r\n",
        "#Overall description of the data\r\n",
        "df.describe()\r\n"
      ],
      "execution_count": 93,
      "outputs": [
        {
          "output_type": "execute_result",
          "data": {
            "text/html": [
              "<div>\n",
              "<style scoped>\n",
              "    .dataframe tbody tr th:only-of-type {\n",
              "        vertical-align: middle;\n",
              "    }\n",
              "\n",
              "    .dataframe tbody tr th {\n",
              "        vertical-align: top;\n",
              "    }\n",
              "\n",
              "    .dataframe thead th {\n",
              "        text-align: right;\n",
              "    }\n",
              "</style>\n",
              "<table border=\"1\" class=\"dataframe\">\n",
              "  <thead>\n",
              "    <tr style=\"text-align: right;\">\n",
              "      <th></th>\n",
              "      <th>Number of Cases</th>\n",
              "      <th>Number of Deaths</th>\n",
              "    </tr>\n",
              "  </thead>\n",
              "  <tbody>\n",
              "    <tr>\n",
              "      <th>count</th>\n",
              "      <td>9.432330e+05</td>\n",
              "      <td>923068.000000</td>\n",
              "    </tr>\n",
              "    <tr>\n",
              "      <th>mean</th>\n",
              "      <td>2.256154e+03</td>\n",
              "      <td>57.562226</td>\n",
              "    </tr>\n",
              "    <tr>\n",
              "      <th>std</th>\n",
              "      <td>1.185291e+04</td>\n",
              "      <td>462.654322</td>\n",
              "    </tr>\n",
              "    <tr>\n",
              "      <th>min</th>\n",
              "      <td>0.000000e+00</td>\n",
              "      <td>0.000000</td>\n",
              "    </tr>\n",
              "    <tr>\n",
              "      <th>25%</th>\n",
              "      <td>4.100000e+01</td>\n",
              "      <td>0.000000</td>\n",
              "    </tr>\n",
              "    <tr>\n",
              "      <th>50%</th>\n",
              "      <td>2.690000e+02</td>\n",
              "      <td>5.000000</td>\n",
              "    </tr>\n",
              "    <tr>\n",
              "      <th>75%</th>\n",
              "      <td>1.161000e+03</td>\n",
              "      <td>25.000000</td>\n",
              "    </tr>\n",
              "    <tr>\n",
              "      <th>max</th>\n",
              "      <td>1.024592e+06</td>\n",
              "      <td>26104.000000</td>\n",
              "    </tr>\n",
              "  </tbody>\n",
              "</table>\n",
              "</div>"
            ],
            "text/plain": [
              "       Number of Cases  Number of Deaths\n",
              "count     9.432330e+05     923068.000000\n",
              "mean      2.256154e+03         57.562226\n",
              "std       1.185291e+04        462.654322\n",
              "min       0.000000e+00          0.000000\n",
              "25%       4.100000e+01          0.000000\n",
              "50%       2.690000e+02          5.000000\n",
              "75%       1.161000e+03         25.000000\n",
              "max       1.024592e+06      26104.000000"
            ]
          },
          "metadata": {
            "tags": []
          },
          "execution_count": 93
        }
      ]
    },
    {
      "cell_type": "code",
      "metadata": {
        "colab": {
          "base_uri": "https://localhost:8080/"
        },
        "id": "ZFyXWP7N4CtO",
        "outputId": "735b36be-f703-473b-a4ee-e3697655d3b6"
      },
      "source": [
        "import pandas as pd\r\n",
        "import numpy as np\r\n",
        "\r\n",
        "df = pd.read_csv(\"https://raw.githubusercontent.com/nytimes/covid-19-data/master/us-counties.csv\", index_col=0)\r\n",
        "df.rename(columns={'date': 'Date', 'county': 'US County', 'state': 'US State', 'cases':'Number of Cases', 'deaths': 'Number of Deaths'}, inplace=True)\r\n",
        "df\r\n",
        "\r\n",
        "#Filtering by state counts & number of cases\r\n",
        "state_df = df.groupby('US State')['Number of Cases'].count().sort_values(ascending=False)\r\n",
        "state_df\r\n"
      ],
      "execution_count": 6,
      "outputs": [
        {
          "output_type": "execute_result",
          "data": {
            "text/plain": [
              "US State\n",
              "Texas                       71574\n",
              "Georgia                     48089\n",
              "Virginia                    39280\n",
              "Kentucky                    34972\n",
              "Missouri                    33439\n",
              "Illinois                    30073\n",
              "North Carolina              29808\n",
              "Iowa                        29070\n",
              "Kansas                      28769\n",
              "Tennessee                   28639\n",
              "Indiana                     27726\n",
              "Ohio                        26426\n",
              "Minnesota                   25643\n",
              "Michigan                    24882\n",
              "Mississippi                 24730\n",
              "Nebraska                    24282\n",
              "Arkansas                    22552\n",
              "Oklahoma                    22484\n",
              "Wisconsin                   21431\n",
              "Florida                     20722\n",
              "Puerto Rico                 20477\n",
              "Pennsylvania                20281\n",
              "Alabama                     20152\n",
              "Louisiana                   19703\n",
              "Colorado                    18807\n",
              "South Dakota                17872\n",
              "New York                    17852\n",
              "California                  17845\n",
              "West Virginia               15836\n",
              "North Dakota                14579\n",
              "South Carolina              14011\n",
              "Montana                     13776\n",
              "Washington                  12163\n",
              "Idaho                       12062\n",
              "Oregon                      10498\n",
              "New Mexico                   9483\n",
              "Utah                         8519\n",
              "Maryland                     7645\n",
              "Alaska                       7185\n",
              "New Jersey                   6857\n",
              "Wyoming                      6775\n",
              "Maine                        5072\n",
              "Massachusetts                4714\n",
              "Arizona                      4670\n",
              "Nevada                       4647\n",
              "Vermont                      4558\n",
              "New Hampshire                3332\n",
              "Connecticut                  2771\n",
              "Rhode Island                 1824\n",
              "Hawaii                       1318\n",
              "Delaware                     1211\n",
              "Virgin Islands                995\n",
              "Northern Mariana Islands      524\n",
              "District of Columbia          318\n",
              "Guam                          310\n",
              "Name: Number of Cases, dtype: int64"
            ]
          },
          "metadata": {
            "tags": []
          },
          "execution_count": 6
        }
      ]
    },
    {
      "cell_type": "markdown",
      "metadata": {
        "id": "ziT_E1AlbIKn"
      },
      "source": [
        "**Data Analysis**"
      ]
    },
    {
      "cell_type": "code",
      "metadata": {
        "colab": {
          "base_uri": "https://localhost:8080/",
          "height": 446
        },
        "id": "_ma_5-AUbNId",
        "outputId": "9bc0f546-3c3f-4d99-b03f-5d900030ebff"
      },
      "source": [
        "#All States analysis\r\n",
        "df.filter(items=[\"US State\", \"Number of Cases\", \"Number of Deaths\"])\r\n",
        "df\r\n"
      ],
      "execution_count": 106,
      "outputs": [
        {
          "output_type": "execute_result",
          "data": {
            "text/html": [
              "<div>\n",
              "<style scoped>\n",
              "    .dataframe tbody tr th:only-of-type {\n",
              "        vertical-align: middle;\n",
              "    }\n",
              "\n",
              "    .dataframe tbody tr th {\n",
              "        vertical-align: top;\n",
              "    }\n",
              "\n",
              "    .dataframe thead th {\n",
              "        text-align: right;\n",
              "    }\n",
              "</style>\n",
              "<table border=\"1\" class=\"dataframe\">\n",
              "  <thead>\n",
              "    <tr style=\"text-align: right;\">\n",
              "      <th></th>\n",
              "      <th>US County</th>\n",
              "      <th>US State</th>\n",
              "      <th>Number of Cases</th>\n",
              "      <th>Number of Deaths</th>\n",
              "    </tr>\n",
              "    <tr>\n",
              "      <th>date</th>\n",
              "      <th></th>\n",
              "      <th></th>\n",
              "      <th></th>\n",
              "      <th></th>\n",
              "    </tr>\n",
              "  </thead>\n",
              "  <tbody>\n",
              "    <tr>\n",
              "      <th>2020-01-21</th>\n",
              "      <td>Snohomish</td>\n",
              "      <td>Washington</td>\n",
              "      <td>1</td>\n",
              "      <td>0.0</td>\n",
              "    </tr>\n",
              "    <tr>\n",
              "      <th>2020-01-22</th>\n",
              "      <td>Snohomish</td>\n",
              "      <td>Washington</td>\n",
              "      <td>1</td>\n",
              "      <td>0.0</td>\n",
              "    </tr>\n",
              "    <tr>\n",
              "      <th>2020-01-23</th>\n",
              "      <td>Snohomish</td>\n",
              "      <td>Washington</td>\n",
              "      <td>1</td>\n",
              "      <td>0.0</td>\n",
              "    </tr>\n",
              "    <tr>\n",
              "      <th>2020-01-24</th>\n",
              "      <td>Cook</td>\n",
              "      <td>Illinois</td>\n",
              "      <td>1</td>\n",
              "      <td>0.0</td>\n",
              "    </tr>\n",
              "    <tr>\n",
              "      <th>2020-01-24</th>\n",
              "      <td>Snohomish</td>\n",
              "      <td>Washington</td>\n",
              "      <td>1</td>\n",
              "      <td>0.0</td>\n",
              "    </tr>\n",
              "    <tr>\n",
              "      <th>...</th>\n",
              "      <td>...</td>\n",
              "      <td>...</td>\n",
              "      <td>...</td>\n",
              "      <td>...</td>\n",
              "    </tr>\n",
              "    <tr>\n",
              "      <th>2021-01-18</th>\n",
              "      <td>Sweetwater</td>\n",
              "      <td>Wyoming</td>\n",
              "      <td>3312</td>\n",
              "      <td>26.0</td>\n",
              "    </tr>\n",
              "    <tr>\n",
              "      <th>2021-01-18</th>\n",
              "      <td>Teton</td>\n",
              "      <td>Wyoming</td>\n",
              "      <td>2753</td>\n",
              "      <td>4.0</td>\n",
              "    </tr>\n",
              "    <tr>\n",
              "      <th>2021-01-18</th>\n",
              "      <td>Uinta</td>\n",
              "      <td>Wyoming</td>\n",
              "      <td>1833</td>\n",
              "      <td>9.0</td>\n",
              "    </tr>\n",
              "    <tr>\n",
              "      <th>2021-01-18</th>\n",
              "      <td>Washakie</td>\n",
              "      <td>Wyoming</td>\n",
              "      <td>843</td>\n",
              "      <td>23.0</td>\n",
              "    </tr>\n",
              "    <tr>\n",
              "      <th>2021-01-18</th>\n",
              "      <td>Weston</td>\n",
              "      <td>Wyoming</td>\n",
              "      <td>602</td>\n",
              "      <td>4.0</td>\n",
              "    </tr>\n",
              "  </tbody>\n",
              "</table>\n",
              "<p>943233 rows × 4 columns</p>\n",
              "</div>"
            ],
            "text/plain": [
              "             US County    US State  Number of Cases  Number of Deaths\n",
              "date                                                                 \n",
              "2020-01-21   Snohomish  Washington                1               0.0\n",
              "2020-01-22   Snohomish  Washington                1               0.0\n",
              "2020-01-23   Snohomish  Washington                1               0.0\n",
              "2020-01-24        Cook    Illinois                1               0.0\n",
              "2020-01-24   Snohomish  Washington                1               0.0\n",
              "...                ...         ...              ...               ...\n",
              "2021-01-18  Sweetwater     Wyoming             3312              26.0\n",
              "2021-01-18       Teton     Wyoming             2753               4.0\n",
              "2021-01-18       Uinta     Wyoming             1833               9.0\n",
              "2021-01-18    Washakie     Wyoming              843              23.0\n",
              "2021-01-18      Weston     Wyoming              602               4.0\n",
              "\n",
              "[943233 rows x 4 columns]"
            ]
          },
          "metadata": {
            "tags": []
          },
          "execution_count": 106
        }
      ]
    },
    {
      "cell_type": "code",
      "metadata": {
        "id": "vHK9O6PmgFUu"
      },
      "source": [
        "import pandas as pd\r\n",
        "import matplotlib.pyplot as plt\r\n",
        "%matplotlib inline"
      ],
      "execution_count": 127,
      "outputs": []
    },
    {
      "cell_type": "markdown",
      "metadata": {
        "id": "fZF8s1ARVlvf"
      },
      "source": [
        "**Data** **Visualization**"
      ]
    },
    {
      "cell_type": "code",
      "metadata": {
        "colab": {
          "base_uri": "https://localhost:8080/",
          "height": 737
        },
        "id": "gTYIBhppil-y",
        "outputId": "13dab749-b87e-4ed3-b76f-fc806b3937fd"
      },
      "source": [
        "#Analysis of NY State Data\r\n",
        "df_ny = df[df[\"US State\"] == \"New York\"]\r\n",
        "df_ny\r\n",
        "df_ny.plot()\r\n",
        "sns.set(rc={'figure.figsize':(15,12)})\r\n",
        "sns.distplot(df_ny['US County'], bins=30)\r\n",
        "plt.show()"
      ],
      "execution_count": 136,
      "outputs": [
        {
          "output_type": "execute_result",
          "data": {
            "text/plain": [
              "<matplotlib.axes._subplots.AxesSubplot at 0x7f308a1944e0>"
            ]
          },
          "metadata": {
            "tags": []
          },
          "execution_count": 136
        },
        {
          "output_type": "display_data",
          "data": {
            "image/png": "[encoded data removed]",
            "text/plain": [
              "<Figure size 1080x864 with 1 Axes>"
            ]
          },
          "metadata": {
            "tags": []
          }
        }
      ]
    },
    {
      "cell_type": "code",
      "metadata": {
        "colab": {
          "base_uri": "https://localhost:8080/",
          "height": 346
        },
        "id": "MoRfvEQHQcU4",
        "outputId": "a5d64a6d-1f55-4f66-e4b1-5591feee4cd1"
      },
      "source": [
        "df_ny\r\n",
        "df_ny.plot.area(figsize=(12, 4), subplots=True)"
      ],
      "execution_count": 230,
      "outputs": [
        {
          "output_type": "execute_result",
          "data": {
            "text/plain": [
              "array([<matplotlib.axes._subplots.AxesSubplot object at 0x7f302afc32b0>,\n",
              "       <matplotlib.axes._subplots.AxesSubplot object at 0x7f302af89400>],\n",
              "      dtype=object)"
            ]
          },
          "metadata": {
            "tags": []
          },
          "execution_count": 230
        },
        {
          "output_type": "display_data",
          "data": {
            "image/png": "[encoded data removed]",
            "text/plain": [
              "<Figure size 864x288 with 2 Axes>"
            ]
          },
          "metadata": {
            "tags": []
          }
        }
      ]
    },
    {
      "cell_type": "code",
      "metadata": {
        "colab": {
          "base_uri": "https://localhost:8080/",
          "height": 303
        },
        "id": "Q6qoEiNrR568",
        "outputId": "9d670ad9-7e01-4211-f899-47781c741d60"
      },
      "source": [
        "#NY County Analysis\r\n",
        "import pandas as pd\r\n",
        "import matplotlib.pyplot as plt\r\n",
        "%matplotlib inline\r\n",
        "\r\n",
        "df_ny \r\n",
        "county_ny = df_ny[[\"US County\", \"Number of Cases\"]]\r\n",
        "county_ny.sort_index(ascending= False)\r\n",
        "county_ny.plot('US County')"
      ],
      "execution_count": 267,
      "outputs": [
        {
          "output_type": "execute_result",
          "data": {
            "text/plain": [
              "<matplotlib.axes._subplots.AxesSubplot at 0x7f3028d17eb8>"
            ]
          },
          "metadata": {
            "tags": []
          },
          "execution_count": 267
        },
        {
          "output_type": "display_data",
          "data": {
            "image/png": "[encoded data removed]",
            "text/plain": [
              "<Figure size 432x288 with 1 Axes>"
            ]
          },
          "metadata": {
            "tags": [],
            "needs_background": "light"
          }
        }
      ]
    },
    {
      "cell_type": "markdown",
      "metadata": {
        "id": "hrV291rkUiqM"
      },
      "source": [
        "### **Conclusion**"
      ]
    },
    {
      "cell_type": "markdown",
      "metadata": {
        "id": "87CGVWCNUkyS"
      },
      "source": [
        "The following analysis and data visualizations show a steady increase in COVID-19 cases across all of the US States. When looking at NY state, we see a greater increase in the months of March 2020, and again around November 2020. We also see the death rate increase in a similar pattern. In New York, the counties with the highest number of cases as of 1/18 appear to be Wayne and Sullivan counties. "
      ]
    }
  ]
}